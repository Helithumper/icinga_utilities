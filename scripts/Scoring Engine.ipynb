{
 "cells": [
  {
   "cell_type": "markdown",
   "metadata": {},
   "source": [
    "# Hack@UCF 100% Organic NCCDC Scoring Engine \n",
    "This is a scoring engine for CCDC scrimmage and competition environments. Originally the basis of this program was written in python, but I had a few issues that were solved by Jupyter\n",
    "\n",
    "1. Graphics. Jupyter + Numpy or other libraries makes visualization a breeze as compared to before\n",
    "2. The ability to chain scripts. Part of the scoring engine requires the user to set some variables dependent on their environment. Given that Icinga doesn't flush it's databases each time you have an event, we can use this notebook to easily compile the information required per event\n"
   ]
  },
  {
   "cell_type": "code",
   "execution_count": 1,
   "metadata": {},
   "outputs": [],
   "source": [
    "%matplotlib inline"
   ]
  },
  {
   "cell_type": "code",
   "execution_count": 2,
   "metadata": {},
   "outputs": [],
   "source": [
    "import matplotlib.pyplot as plt\n",
    "import pymysql.cursors\n",
    "import configparser\n",
    "from IPython.core.display import display, HTML\n",
    "import matplotlib.pyplot as plt\n",
    "import pandas as pd\n",
    "import time, datetime"
   ]
  },
  {
   "cell_type": "markdown",
   "metadata": {},
   "source": [
    "## Step 1: Environment Configuration\n",
    "Given that your environment is already setup within Icinga2, we must gather certain identifiers which Icinga uses internally in order to get the correct information from the tooling.\n",
    "\n",
    "In this next step, we will define a few parameters pertaining to Icinga2's setup. Primarily pertaining to databases."
   ]
  },
  {
   "cell_type": "code",
   "execution_count": 3,
   "metadata": {},
   "outputs": [],
   "source": [
    "# Load in the credentials from the ini file\n",
    "credentials = configparser.ConfigParser()\n",
    "credentials.read('credentials.ini')\n",
    "\n",
    "# Connect to the mysql server running on the icinga2 server\n",
    "connection = pymysql.connect(host=credentials['database']['host'], \n",
    "                             user=credentials['database']['username'], \n",
    "                             password=credentials['database']['password'], \n",
    "                             db=credentials['database']['db'], \n",
    "                             cursorclass=pymysql.cursors.DictCursor)\n",
    "\n",
    "cursor = connection.cursor()"
   ]
  },
  {
   "cell_type": "markdown",
   "metadata": {},
   "source": [
    "## Step 2: Environment Enumeration and Host Selection\n",
    "Now that we are able to connect to Icinga's internal database, we must select which hosts to generate scores for. Icinga doesn't flush the database holding all hosts per each event, so each time a new competition is held, the hosts selected will change. In order to ensure that the correct hosts are watched, we will compile a list of hostIDs."
   ]
  },
  {
   "cell_type": "code",
   "execution_count": 4,
   "metadata": {},
   "outputs": [
    {
     "data": {
      "text/html": [
       "<style  type=\"text/css\" >\n",
       "    #T_f15d101c_e4b5_11e8_951c_acde48001122row0_col0 {\n",
       "            text-align:  left;\n",
       "        }    #T_f15d101c_e4b5_11e8_951c_acde48001122row0_col1 {\n",
       "            text-align:  left;\n",
       "        }    #T_f15d101c_e4b5_11e8_951c_acde48001122row0_col2 {\n",
       "            text-align:  left;\n",
       "        }    #T_f15d101c_e4b5_11e8_951c_acde48001122row1_col0 {\n",
       "            text-align:  left;\n",
       "        }    #T_f15d101c_e4b5_11e8_951c_acde48001122row1_col1 {\n",
       "            text-align:  left;\n",
       "        }    #T_f15d101c_e4b5_11e8_951c_acde48001122row1_col2 {\n",
       "            text-align:  left;\n",
       "        }    #T_f15d101c_e4b5_11e8_951c_acde48001122row2_col0 {\n",
       "            text-align:  left;\n",
       "        }    #T_f15d101c_e4b5_11e8_951c_acde48001122row2_col1 {\n",
       "            text-align:  left;\n",
       "        }    #T_f15d101c_e4b5_11e8_951c_acde48001122row2_col2 {\n",
       "            text-align:  left;\n",
       "        }    #T_f15d101c_e4b5_11e8_951c_acde48001122row3_col0 {\n",
       "            text-align:  left;\n",
       "        }    #T_f15d101c_e4b5_11e8_951c_acde48001122row3_col1 {\n",
       "            text-align:  left;\n",
       "        }    #T_f15d101c_e4b5_11e8_951c_acde48001122row3_col2 {\n",
       "            text-align:  left;\n",
       "        }    #T_f15d101c_e4b5_11e8_951c_acde48001122row4_col0 {\n",
       "            text-align:  left;\n",
       "        }    #T_f15d101c_e4b5_11e8_951c_acde48001122row4_col1 {\n",
       "            text-align:  left;\n",
       "        }    #T_f15d101c_e4b5_11e8_951c_acde48001122row4_col2 {\n",
       "            text-align:  left;\n",
       "        }    #T_f15d101c_e4b5_11e8_951c_acde48001122row5_col0 {\n",
       "            text-align:  left;\n",
       "        }    #T_f15d101c_e4b5_11e8_951c_acde48001122row5_col1 {\n",
       "            text-align:  left;\n",
       "        }    #T_f15d101c_e4b5_11e8_951c_acde48001122row5_col2 {\n",
       "            text-align:  left;\n",
       "        }    #T_f15d101c_e4b5_11e8_951c_acde48001122row6_col0 {\n",
       "            text-align:  left;\n",
       "        }    #T_f15d101c_e4b5_11e8_951c_acde48001122row6_col1 {\n",
       "            text-align:  left;\n",
       "        }    #T_f15d101c_e4b5_11e8_951c_acde48001122row6_col2 {\n",
       "            text-align:  left;\n",
       "        }    #T_f15d101c_e4b5_11e8_951c_acde48001122row7_col0 {\n",
       "            text-align:  left;\n",
       "        }    #T_f15d101c_e4b5_11e8_951c_acde48001122row7_col1 {\n",
       "            text-align:  left;\n",
       "        }    #T_f15d101c_e4b5_11e8_951c_acde48001122row7_col2 {\n",
       "            text-align:  left;\n",
       "        }    #T_f15d101c_e4b5_11e8_951c_acde48001122row8_col0 {\n",
       "            text-align:  left;\n",
       "        }    #T_f15d101c_e4b5_11e8_951c_acde48001122row8_col1 {\n",
       "            text-align:  left;\n",
       "        }    #T_f15d101c_e4b5_11e8_951c_acde48001122row8_col2 {\n",
       "            text-align:  left;\n",
       "        }    #T_f15d101c_e4b5_11e8_951c_acde48001122row9_col0 {\n",
       "            text-align:  left;\n",
       "        }    #T_f15d101c_e4b5_11e8_951c_acde48001122row9_col1 {\n",
       "            text-align:  left;\n",
       "        }    #T_f15d101c_e4b5_11e8_951c_acde48001122row9_col2 {\n",
       "            text-align:  left;\n",
       "        }    #T_f15d101c_e4b5_11e8_951c_acde48001122row10_col0 {\n",
       "            text-align:  left;\n",
       "        }    #T_f15d101c_e4b5_11e8_951c_acde48001122row10_col1 {\n",
       "            text-align:  left;\n",
       "        }    #T_f15d101c_e4b5_11e8_951c_acde48001122row10_col2 {\n",
       "            text-align:  left;\n",
       "        }    #T_f15d101c_e4b5_11e8_951c_acde48001122row11_col0 {\n",
       "            text-align:  left;\n",
       "        }    #T_f15d101c_e4b5_11e8_951c_acde48001122row11_col1 {\n",
       "            text-align:  left;\n",
       "        }    #T_f15d101c_e4b5_11e8_951c_acde48001122row11_col2 {\n",
       "            text-align:  left;\n",
       "        }    #T_f15d101c_e4b5_11e8_951c_acde48001122row12_col0 {\n",
       "            text-align:  left;\n",
       "        }    #T_f15d101c_e4b5_11e8_951c_acde48001122row12_col1 {\n",
       "            text-align:  left;\n",
       "        }    #T_f15d101c_e4b5_11e8_951c_acde48001122row12_col2 {\n",
       "            text-align:  left;\n",
       "        }    #T_f15d101c_e4b5_11e8_951c_acde48001122row13_col0 {\n",
       "            text-align:  left;\n",
       "        }    #T_f15d101c_e4b5_11e8_951c_acde48001122row13_col1 {\n",
       "            text-align:  left;\n",
       "        }    #T_f15d101c_e4b5_11e8_951c_acde48001122row13_col2 {\n",
       "            text-align:  left;\n",
       "        }    #T_f15d101c_e4b5_11e8_951c_acde48001122row14_col0 {\n",
       "            text-align:  left;\n",
       "        }    #T_f15d101c_e4b5_11e8_951c_acde48001122row14_col1 {\n",
       "            text-align:  left;\n",
       "        }    #T_f15d101c_e4b5_11e8_951c_acde48001122row14_col2 {\n",
       "            text-align:  left;\n",
       "        }    #T_f15d101c_e4b5_11e8_951c_acde48001122row15_col0 {\n",
       "            text-align:  left;\n",
       "        }    #T_f15d101c_e4b5_11e8_951c_acde48001122row15_col1 {\n",
       "            text-align:  left;\n",
       "        }    #T_f15d101c_e4b5_11e8_951c_acde48001122row15_col2 {\n",
       "            text-align:  left;\n",
       "        }    #T_f15d101c_e4b5_11e8_951c_acde48001122row16_col0 {\n",
       "            text-align:  left;\n",
       "        }    #T_f15d101c_e4b5_11e8_951c_acde48001122row16_col1 {\n",
       "            text-align:  left;\n",
       "        }    #T_f15d101c_e4b5_11e8_951c_acde48001122row16_col2 {\n",
       "            text-align:  left;\n",
       "        }    #T_f15d101c_e4b5_11e8_951c_acde48001122row17_col0 {\n",
       "            text-align:  left;\n",
       "        }    #T_f15d101c_e4b5_11e8_951c_acde48001122row17_col1 {\n",
       "            text-align:  left;\n",
       "        }    #T_f15d101c_e4b5_11e8_951c_acde48001122row17_col2 {\n",
       "            text-align:  left;\n",
       "        }    #T_f15d101c_e4b5_11e8_951c_acde48001122row18_col0 {\n",
       "            text-align:  left;\n",
       "        }    #T_f15d101c_e4b5_11e8_951c_acde48001122row18_col1 {\n",
       "            text-align:  left;\n",
       "        }    #T_f15d101c_e4b5_11e8_951c_acde48001122row18_col2 {\n",
       "            text-align:  left;\n",
       "        }    #T_f15d101c_e4b5_11e8_951c_acde48001122row19_col0 {\n",
       "            text-align:  left;\n",
       "        }    #T_f15d101c_e4b5_11e8_951c_acde48001122row19_col1 {\n",
       "            text-align:  left;\n",
       "        }    #T_f15d101c_e4b5_11e8_951c_acde48001122row19_col2 {\n",
       "            text-align:  left;\n",
       "        }    #T_f15d101c_e4b5_11e8_951c_acde48001122row20_col0 {\n",
       "            text-align:  left;\n",
       "        }    #T_f15d101c_e4b5_11e8_951c_acde48001122row20_col1 {\n",
       "            text-align:  left;\n",
       "        }    #T_f15d101c_e4b5_11e8_951c_acde48001122row20_col2 {\n",
       "            text-align:  left;\n",
       "        }    #T_f15d101c_e4b5_11e8_951c_acde48001122row21_col0 {\n",
       "            text-align:  left;\n",
       "        }    #T_f15d101c_e4b5_11e8_951c_acde48001122row21_col1 {\n",
       "            text-align:  left;\n",
       "        }    #T_f15d101c_e4b5_11e8_951c_acde48001122row21_col2 {\n",
       "            text-align:  left;\n",
       "        }    #T_f15d101c_e4b5_11e8_951c_acde48001122row22_col0 {\n",
       "            text-align:  left;\n",
       "        }    #T_f15d101c_e4b5_11e8_951c_acde48001122row22_col1 {\n",
       "            text-align:  left;\n",
       "        }    #T_f15d101c_e4b5_11e8_951c_acde48001122row22_col2 {\n",
       "            text-align:  left;\n",
       "        }    #T_f15d101c_e4b5_11e8_951c_acde48001122row23_col0 {\n",
       "            text-align:  left;\n",
       "        }    #T_f15d101c_e4b5_11e8_951c_acde48001122row23_col1 {\n",
       "            text-align:  left;\n",
       "        }    #T_f15d101c_e4b5_11e8_951c_acde48001122row23_col2 {\n",
       "            text-align:  left;\n",
       "        }    #T_f15d101c_e4b5_11e8_951c_acde48001122row24_col0 {\n",
       "            text-align:  left;\n",
       "        }    #T_f15d101c_e4b5_11e8_951c_acde48001122row24_col1 {\n",
       "            text-align:  left;\n",
       "        }    #T_f15d101c_e4b5_11e8_951c_acde48001122row24_col2 {\n",
       "            text-align:  left;\n",
       "        }    #T_f15d101c_e4b5_11e8_951c_acde48001122row25_col0 {\n",
       "            text-align:  left;\n",
       "        }    #T_f15d101c_e4b5_11e8_951c_acde48001122row25_col1 {\n",
       "            text-align:  left;\n",
       "        }    #T_f15d101c_e4b5_11e8_951c_acde48001122row25_col2 {\n",
       "            text-align:  left;\n",
       "        }    #T_f15d101c_e4b5_11e8_951c_acde48001122row26_col0 {\n",
       "            text-align:  left;\n",
       "        }    #T_f15d101c_e4b5_11e8_951c_acde48001122row26_col1 {\n",
       "            text-align:  left;\n",
       "        }    #T_f15d101c_e4b5_11e8_951c_acde48001122row26_col2 {\n",
       "            text-align:  left;\n",
       "        }    #T_f15d101c_e4b5_11e8_951c_acde48001122row27_col0 {\n",
       "            text-align:  left;\n",
       "        }    #T_f15d101c_e4b5_11e8_951c_acde48001122row27_col1 {\n",
       "            text-align:  left;\n",
       "        }    #T_f15d101c_e4b5_11e8_951c_acde48001122row27_col2 {\n",
       "            text-align:  left;\n",
       "        }    #T_f15d101c_e4b5_11e8_951c_acde48001122row28_col0 {\n",
       "            text-align:  left;\n",
       "        }    #T_f15d101c_e4b5_11e8_951c_acde48001122row28_col1 {\n",
       "            text-align:  left;\n",
       "        }    #T_f15d101c_e4b5_11e8_951c_acde48001122row28_col2 {\n",
       "            text-align:  left;\n",
       "        }    #T_f15d101c_e4b5_11e8_951c_acde48001122row29_col0 {\n",
       "            text-align:  left;\n",
       "        }    #T_f15d101c_e4b5_11e8_951c_acde48001122row29_col1 {\n",
       "            text-align:  left;\n",
       "        }    #T_f15d101c_e4b5_11e8_951c_acde48001122row29_col2 {\n",
       "            text-align:  left;\n",
       "        }    #T_f15d101c_e4b5_11e8_951c_acde48001122row30_col0 {\n",
       "            text-align:  left;\n",
       "        }    #T_f15d101c_e4b5_11e8_951c_acde48001122row30_col1 {\n",
       "            text-align:  left;\n",
       "        }    #T_f15d101c_e4b5_11e8_951c_acde48001122row30_col2 {\n",
       "            text-align:  left;\n",
       "        }    #T_f15d101c_e4b5_11e8_951c_acde48001122row31_col0 {\n",
       "            text-align:  left;\n",
       "        }    #T_f15d101c_e4b5_11e8_951c_acde48001122row31_col1 {\n",
       "            text-align:  left;\n",
       "        }    #T_f15d101c_e4b5_11e8_951c_acde48001122row31_col2 {\n",
       "            text-align:  left;\n",
       "        }    #T_f15d101c_e4b5_11e8_951c_acde48001122row32_col0 {\n",
       "            text-align:  left;\n",
       "        }    #T_f15d101c_e4b5_11e8_951c_acde48001122row32_col1 {\n",
       "            text-align:  left;\n",
       "        }    #T_f15d101c_e4b5_11e8_951c_acde48001122row32_col2 {\n",
       "            text-align:  left;\n",
       "        }</style>  \n",
       "<table id=\"T_f15d101c_e4b5_11e8_951c_acde48001122\" > \n",
       "<thead>    <tr> \n",
       "        <th class=\"blank level0\" ></th> \n",
       "        <th class=\"col_heading level0 col0\" >address</th> \n",
       "        <th class=\"col_heading level0 col1\" >display_name</th> \n",
       "        <th class=\"col_heading level0 col2\" >host_object_id</th> \n",
       "    </tr></thead> \n",
       "<tbody>    <tr> \n",
       "        <th id=\"T_f15d101c_e4b5_11e8_951c_acde48001122level0_row0\" class=\"row_heading level0 row0\" >0</th> \n",
       "        <td id=\"T_f15d101c_e4b5_11e8_951c_acde48001122row0_col0\" class=\"data row0 col0\" >127.0.0.1</td> \n",
       "        <td id=\"T_f15d101c_e4b5_11e8_951c_acde48001122row0_col1\" class=\"data row0 col1\" >icinga</td> \n",
       "        <td id=\"T_f15d101c_e4b5_11e8_951c_acde48001122row0_col2\" class=\"data row0 col2\" >219</td> \n",
       "    </tr>    <tr> \n",
       "        <th id=\"T_f15d101c_e4b5_11e8_951c_acde48001122level0_row1\" class=\"row_heading level0 row1\" >1</th> \n",
       "        <td id=\"T_f15d101c_e4b5_11e8_951c_acde48001122row1_col0\" class=\"data row1 col0\" >192.168.50.104</td> \n",
       "        <td id=\"T_f15d101c_e4b5_11e8_951c_acde48001122row1_col1\" class=\"data row1 col1\" >AMediawiki</td> \n",
       "        <td id=\"T_f15d101c_e4b5_11e8_951c_acde48001122row1_col2\" class=\"data row1 col2\" >247</td> \n",
       "    </tr>    <tr> \n",
       "        <th id=\"T_f15d101c_e4b5_11e8_951c_acde48001122level0_row2\" class=\"row_heading level0 row2\" >2</th> \n",
       "        <td id=\"T_f15d101c_e4b5_11e8_951c_acde48001122row2_col0\" class=\"data row2 col0\" >192.168.50.104</td> \n",
       "        <td id=\"T_f15d101c_e4b5_11e8_951c_acde48001122row2_col1\" class=\"data row2 col1\" >A Mediawiki</td> \n",
       "        <td id=\"T_f15d101c_e4b5_11e8_951c_acde48001122row2_col2\" class=\"data row2 col2\" >249</td> \n",
       "    </tr>    <tr> \n",
       "        <th id=\"T_f15d101c_e4b5_11e8_951c_acde48001122level0_row3\" class=\"row_heading level0 row3\" >3</th> \n",
       "        <td id=\"T_f15d101c_e4b5_11e8_951c_acde48001122row3_col0\" class=\"data row3 col0\" >192.168.50.101</td> \n",
       "        <td id=\"T_f15d101c_e4b5_11e8_951c_acde48001122row3_col1\" class=\"data row3 col1\" >A Linux Wordpress</td> \n",
       "        <td id=\"T_f15d101c_e4b5_11e8_951c_acde48001122row3_col2\" class=\"data row3 col2\" >251</td> \n",
       "    </tr>    <tr> \n",
       "        <th id=\"T_f15d101c_e4b5_11e8_951c_acde48001122level0_row4\" class=\"row_heading level0 row4\" >4</th> \n",
       "        <td id=\"T_f15d101c_e4b5_11e8_951c_acde48001122row4_col0\" class=\"data row4 col0\" >192.168.50.104</td> \n",
       "        <td id=\"T_f15d101c_e4b5_11e8_951c_acde48001122row4_col1\" class=\"data row4 col1\" >A Windows MediaWiki</td> \n",
       "        <td id=\"T_f15d101c_e4b5_11e8_951c_acde48001122row4_col2\" class=\"data row4 col2\" >252</td> \n",
       "    </tr>    <tr> \n",
       "        <th id=\"T_f15d101c_e4b5_11e8_951c_acde48001122level0_row5\" class=\"row_heading level0 row5\" >5</th> \n",
       "        <td id=\"T_f15d101c_e4b5_11e8_951c_acde48001122row5_col0\" class=\"data row5 col0\" >192.168.50.102</td> \n",
       "        <td id=\"T_f15d101c_e4b5_11e8_951c_acde48001122row5_col1\" class=\"data row5 col1\" >A Linux Bind</td> \n",
       "        <td id=\"T_f15d101c_e4b5_11e8_951c_acde48001122row5_col2\" class=\"data row5 col2\" >253</td> \n",
       "    </tr>    <tr> \n",
       "        <th id=\"T_f15d101c_e4b5_11e8_951c_acde48001122level0_row6\" class=\"row_heading level0 row6\" >6</th> \n",
       "        <td id=\"T_f15d101c_e4b5_11e8_951c_acde48001122row6_col0\" class=\"data row6 col0\" >192.168.50.106</td> \n",
       "        <td id=\"T_f15d101c_e4b5_11e8_951c_acde48001122row6_col1\" class=\"data row6 col1\" >A Windows Mail</td> \n",
       "        <td id=\"T_f15d101c_e4b5_11e8_951c_acde48001122row6_col2\" class=\"data row6 col2\" >254</td> \n",
       "    </tr>    <tr> \n",
       "        <th id=\"T_f15d101c_e4b5_11e8_951c_acde48001122level0_row7\" class=\"row_heading level0 row7\" >7</th> \n",
       "        <td id=\"T_f15d101c_e4b5_11e8_951c_acde48001122row7_col0\" class=\"data row7 col0\" >192.168.50.105</td> \n",
       "        <td id=\"T_f15d101c_e4b5_11e8_951c_acde48001122row7_col1\" class=\"data row7 col1\" >A Windows AD/DNS</td> \n",
       "        <td id=\"T_f15d101c_e4b5_11e8_951c_acde48001122row7_col2\" class=\"data row7 col2\" >255</td> \n",
       "    </tr>    <tr> \n",
       "        <th id=\"T_f15d101c_e4b5_11e8_951c_acde48001122level0_row8\" class=\"row_heading level0 row8\" >8</th> \n",
       "        <td id=\"T_f15d101c_e4b5_11e8_951c_acde48001122row8_col0\" class=\"data row8 col0\" >192.168.50.103</td> \n",
       "        <td id=\"T_f15d101c_e4b5_11e8_951c_acde48001122row8_col1\" class=\"data row8 col1\" >A Linux DB</td> \n",
       "        <td id=\"T_f15d101c_e4b5_11e8_951c_acde48001122row8_col2\" class=\"data row8 col2\" >256</td> \n",
       "    </tr>    <tr> \n",
       "        <th id=\"T_f15d101c_e4b5_11e8_951c_acde48001122level0_row9\" class=\"row_heading level0 row9\" >9</th> \n",
       "        <td id=\"T_f15d101c_e4b5_11e8_951c_acde48001122row9_col0\" class=\"data row9 col0\" >192.168.50.102</td> \n",
       "        <td id=\"T_f15d101c_e4b5_11e8_951c_acde48001122row9_col1\" class=\"data row9 col1\" >A - Linux - Bind</td> \n",
       "        <td id=\"T_f15d101c_e4b5_11e8_951c_acde48001122row9_col2\" class=\"data row9 col2\" >263</td> \n",
       "    </tr>    <tr> \n",
       "        <th id=\"T_f15d101c_e4b5_11e8_951c_acde48001122level0_row10\" class=\"row_heading level0 row10\" >10</th> \n",
       "        <td id=\"T_f15d101c_e4b5_11e8_951c_acde48001122row10_col0\" class=\"data row10 col0\" >192.168.50.101</td> \n",
       "        <td id=\"T_f15d101c_e4b5_11e8_951c_acde48001122row10_col1\" class=\"data row10 col1\" >A - Linux - Wordpress</td> \n",
       "        <td id=\"T_f15d101c_e4b5_11e8_951c_acde48001122row10_col2\" class=\"data row10 col2\" >264</td> \n",
       "    </tr>    <tr> \n",
       "        <th id=\"T_f15d101c_e4b5_11e8_951c_acde48001122level0_row11\" class=\"row_heading level0 row11\" >11</th> \n",
       "        <td id=\"T_f15d101c_e4b5_11e8_951c_acde48001122row11_col0\" class=\"data row11 col0\" >192.168.50.104</td> \n",
       "        <td id=\"T_f15d101c_e4b5_11e8_951c_acde48001122row11_col1\" class=\"data row11 col1\" >A - Windows - MediaWiki</td> \n",
       "        <td id=\"T_f15d101c_e4b5_11e8_951c_acde48001122row11_col2\" class=\"data row11 col2\" >265</td> \n",
       "    </tr>    <tr> \n",
       "        <th id=\"T_f15d101c_e4b5_11e8_951c_acde48001122level0_row12\" class=\"row_heading level0 row12\" >12</th> \n",
       "        <td id=\"T_f15d101c_e4b5_11e8_951c_acde48001122row12_col0\" class=\"data row12 col0\" >192.168.50.106</td> \n",
       "        <td id=\"T_f15d101c_e4b5_11e8_951c_acde48001122row12_col1\" class=\"data row12 col1\" >A - Windows - Mail</td> \n",
       "        <td id=\"T_f15d101c_e4b5_11e8_951c_acde48001122row12_col2\" class=\"data row12 col2\" >266</td> \n",
       "    </tr>    <tr> \n",
       "        <th id=\"T_f15d101c_e4b5_11e8_951c_acde48001122level0_row13\" class=\"row_heading level0 row13\" >13</th> \n",
       "        <td id=\"T_f15d101c_e4b5_11e8_951c_acde48001122row13_col0\" class=\"data row13 col0\" >192.168.50.100</td> \n",
       "        <td id=\"T_f15d101c_e4b5_11e8_951c_acde48001122row13_col1\" class=\"data row13 col1\" >A - Windows - AD/DNS</td> \n",
       "        <td id=\"T_f15d101c_e4b5_11e8_951c_acde48001122row13_col2\" class=\"data row13 col2\" >267</td> \n",
       "    </tr>    <tr> \n",
       "        <th id=\"T_f15d101c_e4b5_11e8_951c_acde48001122level0_row14\" class=\"row_heading level0 row14\" >14</th> \n",
       "        <td id=\"T_f15d101c_e4b5_11e8_951c_acde48001122row14_col0\" class=\"data row14 col0\" >192.168.50.103</td> \n",
       "        <td id=\"T_f15d101c_e4b5_11e8_951c_acde48001122row14_col1\" class=\"data row14 col1\" >A - Linux - DB</td> \n",
       "        <td id=\"T_f15d101c_e4b5_11e8_951c_acde48001122row14_col2\" class=\"data row14 col2\" >268</td> \n",
       "    </tr>    <tr> \n",
       "        <th id=\"T_f15d101c_e4b5_11e8_951c_acde48001122level0_row15\" class=\"row_heading level0 row15\" >15</th> \n",
       "        <td id=\"T_f15d101c_e4b5_11e8_951c_acde48001122row15_col0\" class=\"data row15 col0\" >192.168.50.203</td> \n",
       "        <td id=\"T_f15d101c_e4b5_11e8_951c_acde48001122row15_col1\" class=\"data row15 col1\" >B - Linux - DB</td> \n",
       "        <td id=\"T_f15d101c_e4b5_11e8_951c_acde48001122row15_col2\" class=\"data row15 col2\" >275</td> \n",
       "    </tr>    <tr> \n",
       "        <th id=\"T_f15d101c_e4b5_11e8_951c_acde48001122level0_row16\" class=\"row_heading level0 row16\" >16</th> \n",
       "        <td id=\"T_f15d101c_e4b5_11e8_951c_acde48001122row16_col0\" class=\"data row16 col0\" >192.168.50.200</td> \n",
       "        <td id=\"T_f15d101c_e4b5_11e8_951c_acde48001122row16_col1\" class=\"data row16 col1\" >B - Windows - AD/DNS</td> \n",
       "        <td id=\"T_f15d101c_e4b5_11e8_951c_acde48001122row16_col2\" class=\"data row16 col2\" >276</td> \n",
       "    </tr>    <tr> \n",
       "        <th id=\"T_f15d101c_e4b5_11e8_951c_acde48001122level0_row17\" class=\"row_heading level0 row17\" >17</th> \n",
       "        <td id=\"T_f15d101c_e4b5_11e8_951c_acde48001122row17_col0\" class=\"data row17 col0\" >192.168.50.201</td> \n",
       "        <td id=\"T_f15d101c_e4b5_11e8_951c_acde48001122row17_col1\" class=\"data row17 col1\" >B - Linux - MediaWiki</td> \n",
       "        <td id=\"T_f15d101c_e4b5_11e8_951c_acde48001122row17_col2\" class=\"data row17 col2\" >277</td> \n",
       "    </tr>    <tr> \n",
       "        <th id=\"T_f15d101c_e4b5_11e8_951c_acde48001122level0_row18\" class=\"row_heading level0 row18\" >18</th> \n",
       "        <td id=\"T_f15d101c_e4b5_11e8_951c_acde48001122row18_col0\" class=\"data row18 col0\" >192.168.50.202</td> \n",
       "        <td id=\"T_f15d101c_e4b5_11e8_951c_acde48001122row18_col1\" class=\"data row18 col1\" >B - Linux - Bind</td> \n",
       "        <td id=\"T_f15d101c_e4b5_11e8_951c_acde48001122row18_col2\" class=\"data row18 col2\" >278</td> \n",
       "    </tr>    <tr> \n",
       "        <th id=\"T_f15d101c_e4b5_11e8_951c_acde48001122level0_row19\" class=\"row_heading level0 row19\" >19</th> \n",
       "        <td id=\"T_f15d101c_e4b5_11e8_951c_acde48001122row19_col0\" class=\"data row19 col0\" >192.168.50.1</td> \n",
       "        <td id=\"T_f15d101c_e4b5_11e8_951c_acde48001122row19_col1\" class=\"data row19 col1\" >B - Windows - Mail</td> \n",
       "        <td id=\"T_f15d101c_e4b5_11e8_951c_acde48001122row19_col2\" class=\"data row19 col2\" >279</td> \n",
       "    </tr>    <tr> \n",
       "        <th id=\"T_f15d101c_e4b5_11e8_951c_acde48001122level0_row20\" class=\"row_heading level0 row20\" >20</th> \n",
       "        <td id=\"T_f15d101c_e4b5_11e8_951c_acde48001122row20_col0\" class=\"data row20 col0\" >192.168.50.204</td> \n",
       "        <td id=\"T_f15d101c_e4b5_11e8_951c_acde48001122row20_col1\" class=\"data row20 col1\" >B - Windows - Wordpress</td> \n",
       "        <td id=\"T_f15d101c_e4b5_11e8_951c_acde48001122row20_col2\" class=\"data row20 col2\" >280</td> \n",
       "    </tr>    <tr> \n",
       "        <th id=\"T_f15d101c_e4b5_11e8_951c_acde48001122level0_row21\" class=\"row_heading level0 row21\" >21</th> \n",
       "        <td id=\"T_f15d101c_e4b5_11e8_951c_acde48001122row21_col0\" class=\"data row21 col0\" >192.168.50.117</td> \n",
       "        <td id=\"T_f15d101c_e4b5_11e8_951c_acde48001122row21_col1\" class=\"data row21 col1\" >A - Linux - Mediawiki</td> \n",
       "        <td id=\"T_f15d101c_e4b5_11e8_951c_acde48001122row21_col2\" class=\"data row21 col2\" >313</td> \n",
       "    </tr>    <tr> \n",
       "        <th id=\"T_f15d101c_e4b5_11e8_951c_acde48001122level0_row22\" class=\"row_heading level0 row22\" >22</th> \n",
       "        <td id=\"T_f15d101c_e4b5_11e8_951c_acde48001122row22_col0\" class=\"data row22 col0\" >192.168.7.1</td> \n",
       "        <td id=\"T_f15d101c_e4b5_11e8_951c_acde48001122row22_col1\" class=\"data row22 col1\" >B - Linux - Wordpress</td> \n",
       "        <td id=\"T_f15d101c_e4b5_11e8_951c_acde48001122row22_col2\" class=\"data row22 col2\" >314</td> \n",
       "    </tr>    <tr> \n",
       "        <th id=\"T_f15d101c_e4b5_11e8_951c_acde48001122level0_row23\" class=\"row_heading level0 row23\" >23</th> \n",
       "        <td id=\"T_f15d101c_e4b5_11e8_951c_acde48001122row23_col0\" class=\"data row23 col0\" >192.168.50.101</td> \n",
       "        <td id=\"T_f15d101c_e4b5_11e8_951c_acde48001122row23_col1\" class=\"data row23 col1\" >A - Windows - SMB/FTP</td> \n",
       "        <td id=\"T_f15d101c_e4b5_11e8_951c_acde48001122row23_col2\" class=\"data row23 col2\" >323</td> \n",
       "    </tr>    <tr> \n",
       "        <th id=\"T_f15d101c_e4b5_11e8_951c_acde48001122level0_row24\" class=\"row_heading level0 row24\" >24</th> \n",
       "        <td id=\"T_f15d101c_e4b5_11e8_951c_acde48001122row24_col0\" class=\"data row24 col0\" >192.168.50.105</td> \n",
       "        <td id=\"T_f15d101c_e4b5_11e8_951c_acde48001122row24_col1\" class=\"data row24 col1\" >A - Linux - Ghost (BLOG)</td> \n",
       "        <td id=\"T_f15d101c_e4b5_11e8_951c_acde48001122row24_col2\" class=\"data row24 col2\" >324</td> \n",
       "    </tr>    <tr> \n",
       "        <th id=\"T_f15d101c_e4b5_11e8_951c_acde48001122level0_row25\" class=\"row_heading level0 row25\" >25</th> \n",
       "        <td id=\"T_f15d101c_e4b5_11e8_951c_acde48001122row25_col0\" class=\"data row25 col0\" >192.168.50.201</td> \n",
       "        <td id=\"T_f15d101c_e4b5_11e8_951c_acde48001122row25_col1\" class=\"data row25 col1\" >B - Windows - SMB/FTP</td> \n",
       "        <td id=\"T_f15d101c_e4b5_11e8_951c_acde48001122row25_col2\" class=\"data row25 col2\" >325</td> \n",
       "    </tr>    <tr> \n",
       "        <th id=\"T_f15d101c_e4b5_11e8_951c_acde48001122level0_row26\" class=\"row_heading level0 row26\" >26</th> \n",
       "        <td id=\"T_f15d101c_e4b5_11e8_951c_acde48001122row26_col0\" class=\"data row26 col0\" >192.168.50.204</td> \n",
       "        <td id=\"T_f15d101c_e4b5_11e8_951c_acde48001122row26_col1\" class=\"data row26 col1\" >B - Linux - MySQL/Bind</td> \n",
       "        <td id=\"T_f15d101c_e4b5_11e8_951c_acde48001122row26_col2\" class=\"data row26 col2\" >326</td> \n",
       "    </tr>    <tr> \n",
       "        <th id=\"T_f15d101c_e4b5_11e8_951c_acde48001122level0_row27\" class=\"row_heading level0 row27\" >27</th> \n",
       "        <td id=\"T_f15d101c_e4b5_11e8_951c_acde48001122row27_col0\" class=\"data row27 col0\" >192.168.50.203</td> \n",
       "        <td id=\"T_f15d101c_e4b5_11e8_951c_acde48001122row27_col1\" class=\"data row27 col1\" >B - Linux - Mail</td> \n",
       "        <td id=\"T_f15d101c_e4b5_11e8_951c_acde48001122row27_col2\" class=\"data row27 col2\" >327</td> \n",
       "    </tr>    <tr> \n",
       "        <th id=\"T_f15d101c_e4b5_11e8_951c_acde48001122level0_row28\" class=\"row_heading level0 row28\" >28</th> \n",
       "        <td id=\"T_f15d101c_e4b5_11e8_951c_acde48001122row28_col0\" class=\"data row28 col0\" >192.168.50.202</td> \n",
       "        <td id=\"T_f15d101c_e4b5_11e8_951c_acde48001122row28_col1\" class=\"data row28 col1\" >B - Windows - FarmOS/MySQL</td> \n",
       "        <td id=\"T_f15d101c_e4b5_11e8_951c_acde48001122row28_col2\" class=\"data row28 col2\" >328</td> \n",
       "    </tr>    <tr> \n",
       "        <th id=\"T_f15d101c_e4b5_11e8_951c_acde48001122level0_row29\" class=\"row_heading level0 row29\" >29</th> \n",
       "        <td id=\"T_f15d101c_e4b5_11e8_951c_acde48001122row29_col0\" class=\"data row29 col0\" >192.168.50.102</td> \n",
       "        <td id=\"T_f15d101c_e4b5_11e8_951c_acde48001122row29_col1\" class=\"data row29 col1\" >A - Windows - FarmOS/MySQL</td> \n",
       "        <td id=\"T_f15d101c_e4b5_11e8_951c_acde48001122row29_col2\" class=\"data row29 col2\" >329</td> \n",
       "    </tr>    <tr> \n",
       "        <th id=\"T_f15d101c_e4b5_11e8_951c_acde48001122level0_row30\" class=\"row_heading level0 row30\" >30</th> \n",
       "        <td id=\"T_f15d101c_e4b5_11e8_951c_acde48001122row30_col0\" class=\"data row30 col0\" >192.168.50.205</td> \n",
       "        <td id=\"T_f15d101c_e4b5_11e8_951c_acde48001122row30_col1\" class=\"data row30 col1\" >B - Linux - Ghost (BLOG)</td> \n",
       "        <td id=\"T_f15d101c_e4b5_11e8_951c_acde48001122row30_col2\" class=\"data row30 col2\" >330</td> \n",
       "    </tr>    <tr> \n",
       "        <th id=\"T_f15d101c_e4b5_11e8_951c_acde48001122level0_row31\" class=\"row_heading level0 row31\" >31</th> \n",
       "        <td id=\"T_f15d101c_e4b5_11e8_951c_acde48001122row31_col0\" class=\"data row31 col0\" >192.168.50.104</td> \n",
       "        <td id=\"T_f15d101c_e4b5_11e8_951c_acde48001122row31_col1\" class=\"data row31 col1\" >A - Linux - MySQL/Bind</td> \n",
       "        <td id=\"T_f15d101c_e4b5_11e8_951c_acde48001122row31_col2\" class=\"data row31 col2\" >331</td> \n",
       "    </tr>    <tr> \n",
       "        <th id=\"T_f15d101c_e4b5_11e8_951c_acde48001122level0_row32\" class=\"row_heading level0 row32\" >32</th> \n",
       "        <td id=\"T_f15d101c_e4b5_11e8_951c_acde48001122row32_col0\" class=\"data row32 col0\" >192.168.50.103</td> \n",
       "        <td id=\"T_f15d101c_e4b5_11e8_951c_acde48001122row32_col1\" class=\"data row32 col1\" >A - Linux - Mail</td> \n",
       "        <td id=\"T_f15d101c_e4b5_11e8_951c_acde48001122row32_col2\" class=\"data row32 col2\" >332</td> \n",
       "    </tr></tbody> \n",
       "</table> "
      ],
      "text/plain": [
       "<pandas.io.formats.style.Styler at 0x114ebc438>"
      ]
     },
     "execution_count": 4,
     "metadata": {},
     "output_type": "execute_result"
    }
   ],
   "source": [
    "query = \"select host_object_id, display_name, address from icinga_hosts;\"\n",
    "\n",
    "cursor.execute(query)\n",
    "\n",
    "results = cursor.fetchall()\n",
    "\n",
    "df = pd.DataFrame.from_dict(results)\n",
    "\n",
    "df.style.set_properties(**{'text-align': 'left'})"
   ]
  },
  {
   "cell_type": "markdown",
   "metadata": {},
   "source": [
    "Once you know what object IDs the hosts you are scoring will use, enter them into the following list:"
   ]
  },
  {
   "cell_type": "code",
   "execution_count": 5,
   "metadata": {},
   "outputs": [],
   "source": [
    "scored_hosts = [332,331,330,329,328,327,326,325,324,323]"
   ]
  },
  {
   "cell_type": "markdown",
   "metadata": {},
   "source": [
    "## Service Verification\n",
    "This step will now complete a query on the selected hosts to see what services will be checked for each host. Please ensure that this is correct before moving on to the next step."
   ]
  },
  {
   "cell_type": "code",
   "execution_count": 9,
   "metadata": {
    "scrolled": true
   },
   "outputs": [
    {
     "data": {
      "text/html": [
       "<b>Host: [332] A - Linux - Mail</b>"
      ],
      "text/plain": [
       "<IPython.core.display.HTML object>"
      ]
     },
     "metadata": {},
     "output_type": "display_data"
    },
    {
     "data": {
      "text/html": [
       "<div>\n",
       "<style scoped>\n",
       "    .dataframe tbody tr th:only-of-type {\n",
       "        vertical-align: middle;\n",
       "    }\n",
       "\n",
       "    .dataframe tbody tr th {\n",
       "        vertical-align: top;\n",
       "    }\n",
       "\n",
       "    .dataframe thead th {\n",
       "        text-align: right;\n",
       "    }\n",
       "</style>\n",
       "<table border=\"1\" class=\"dataframe\">\n",
       "  <thead>\n",
       "    <tr style=\"text-align: right;\">\n",
       "      <th></th>\n",
       "      <th>display_name</th>\n",
       "      <th>service_id</th>\n",
       "    </tr>\n",
       "  </thead>\n",
       "  <tbody>\n",
       "    <tr>\n",
       "      <th>0</th>\n",
       "      <td>http</td>\n",
       "      <td>65</td>\n",
       "    </tr>\n",
       "    <tr>\n",
       "      <th>1</th>\n",
       "      <td>ping4</td>\n",
       "      <td>79</td>\n",
       "    </tr>\n",
       "    <tr>\n",
       "      <th>2</th>\n",
       "      <td>smtp</td>\n",
       "      <td>94</td>\n",
       "    </tr>\n",
       "  </tbody>\n",
       "</table>\n",
       "</div>"
      ],
      "text/plain": [
       "  display_name  service_id\n",
       "0         http          65\n",
       "1        ping4          79\n",
       "2         smtp          94"
      ]
     },
     "metadata": {},
     "output_type": "display_data"
    },
    {
     "data": {
      "text/html": [
       "<hr size=\"30\">"
      ],
      "text/plain": [
       "<IPython.core.display.HTML object>"
      ]
     },
     "metadata": {},
     "output_type": "display_data"
    },
    {
     "data": {
      "text/html": [
       "<b>Host: [331] A - Linux - MySQL/Bind</b>"
      ],
      "text/plain": [
       "<IPython.core.display.HTML object>"
      ]
     },
     "metadata": {},
     "output_type": "display_data"
    },
    {
     "data": {
      "text/html": [
       "<div>\n",
       "<style scoped>\n",
       "    .dataframe tbody tr th:only-of-type {\n",
       "        vertical-align: middle;\n",
       "    }\n",
       "\n",
       "    .dataframe tbody tr th {\n",
       "        vertical-align: top;\n",
       "    }\n",
       "\n",
       "    .dataframe thead th {\n",
       "        text-align: right;\n",
       "    }\n",
       "</style>\n",
       "<table border=\"1\" class=\"dataframe\">\n",
       "  <thead>\n",
       "    <tr style=\"text-align: right;\">\n",
       "      <th></th>\n",
       "      <th>display_name</th>\n",
       "      <th>service_id</th>\n",
       "    </tr>\n",
       "  </thead>\n",
       "  <tbody>\n",
       "    <tr>\n",
       "      <th>0</th>\n",
       "      <td>dns</td>\n",
       "      <td>67</td>\n",
       "    </tr>\n",
       "    <tr>\n",
       "      <th>1</th>\n",
       "      <td>mysql</td>\n",
       "      <td>76</td>\n",
       "    </tr>\n",
       "    <tr>\n",
       "      <th>2</th>\n",
       "      <td>ping4</td>\n",
       "      <td>92</td>\n",
       "    </tr>\n",
       "  </tbody>\n",
       "</table>\n",
       "</div>"
      ],
      "text/plain": [
       "  display_name  service_id\n",
       "0          dns          67\n",
       "1        mysql          76\n",
       "2        ping4          92"
      ]
     },
     "metadata": {},
     "output_type": "display_data"
    },
    {
     "data": {
      "text/html": [
       "<hr size=\"30\">"
      ],
      "text/plain": [
       "<IPython.core.display.HTML object>"
      ]
     },
     "metadata": {},
     "output_type": "display_data"
    },
    {
     "data": {
      "text/html": [
       "<b>Host: [330] B - Linux - Ghost (BLOG)</b>"
      ],
      "text/plain": [
       "<IPython.core.display.HTML object>"
      ]
     },
     "metadata": {},
     "output_type": "display_data"
    },
    {
     "data": {
      "text/html": [
       "<div>\n",
       "<style scoped>\n",
       "    .dataframe tbody tr th:only-of-type {\n",
       "        vertical-align: middle;\n",
       "    }\n",
       "\n",
       "    .dataframe tbody tr th {\n",
       "        vertical-align: top;\n",
       "    }\n",
       "\n",
       "    .dataframe thead th {\n",
       "        text-align: right;\n",
       "    }\n",
       "</style>\n",
       "<table border=\"1\" class=\"dataframe\">\n",
       "  <thead>\n",
       "    <tr style=\"text-align: right;\">\n",
       "      <th></th>\n",
       "      <th>display_name</th>\n",
       "      <th>service_id</th>\n",
       "    </tr>\n",
       "  </thead>\n",
       "  <tbody>\n",
       "    <tr>\n",
       "      <th>0</th>\n",
       "      <td>http</td>\n",
       "      <td>77</td>\n",
       "    </tr>\n",
       "    <tr>\n",
       "      <th>1</th>\n",
       "      <td>ssh</td>\n",
       "      <td>83</td>\n",
       "    </tr>\n",
       "    <tr>\n",
       "      <th>2</th>\n",
       "      <td>ping4</td>\n",
       "      <td>89</td>\n",
       "    </tr>\n",
       "  </tbody>\n",
       "</table>\n",
       "</div>"
      ],
      "text/plain": [
       "  display_name  service_id\n",
       "0         http          77\n",
       "1          ssh          83\n",
       "2        ping4          89"
      ]
     },
     "metadata": {},
     "output_type": "display_data"
    },
    {
     "data": {
      "text/html": [
       "<hr size=\"30\">"
      ],
      "text/plain": [
       "<IPython.core.display.HTML object>"
      ]
     },
     "metadata": {},
     "output_type": "display_data"
    },
    {
     "data": {
      "text/html": [
       "<b>Host: [329] A - Windows - FarmOS/MySQL</b>"
      ],
      "text/plain": [
       "<IPython.core.display.HTML object>"
      ]
     },
     "metadata": {},
     "output_type": "display_data"
    },
    {
     "data": {
      "text/html": [
       "<div>\n",
       "<style scoped>\n",
       "    .dataframe tbody tr th:only-of-type {\n",
       "        vertical-align: middle;\n",
       "    }\n",
       "\n",
       "    .dataframe tbody tr th {\n",
       "        vertical-align: top;\n",
       "    }\n",
       "\n",
       "    .dataframe thead th {\n",
       "        text-align: right;\n",
       "    }\n",
       "</style>\n",
       "<table border=\"1\" class=\"dataframe\">\n",
       "  <thead>\n",
       "    <tr style=\"text-align: right;\">\n",
       "      <th></th>\n",
       "      <th>display_name</th>\n",
       "      <th>service_id</th>\n",
       "    </tr>\n",
       "  </thead>\n",
       "  <tbody>\n",
       "    <tr>\n",
       "      <th>0</th>\n",
       "      <td>ping4</td>\n",
       "      <td>70</td>\n",
       "    </tr>\n",
       "    <tr>\n",
       "      <th>1</th>\n",
       "      <td>http</td>\n",
       "      <td>73</td>\n",
       "    </tr>\n",
       "    <tr>\n",
       "      <th>2</th>\n",
       "      <td>mysql</td>\n",
       "      <td>74</td>\n",
       "    </tr>\n",
       "  </tbody>\n",
       "</table>\n",
       "</div>"
      ],
      "text/plain": [
       "  display_name  service_id\n",
       "0        ping4          70\n",
       "1         http          73\n",
       "2        mysql          74"
      ]
     },
     "metadata": {},
     "output_type": "display_data"
    },
    {
     "data": {
      "text/html": [
       "<hr size=\"30\">"
      ],
      "text/plain": [
       "<IPython.core.display.HTML object>"
      ]
     },
     "metadata": {},
     "output_type": "display_data"
    },
    {
     "data": {
      "text/html": [
       "<b>Host: [328] B - Windows - FarmOS/MySQL</b>"
      ],
      "text/plain": [
       "<IPython.core.display.HTML object>"
      ]
     },
     "metadata": {},
     "output_type": "display_data"
    },
    {
     "data": {
      "text/html": [
       "<div>\n",
       "<style scoped>\n",
       "    .dataframe tbody tr th:only-of-type {\n",
       "        vertical-align: middle;\n",
       "    }\n",
       "\n",
       "    .dataframe tbody tr th {\n",
       "        vertical-align: top;\n",
       "    }\n",
       "\n",
       "    .dataframe thead th {\n",
       "        text-align: right;\n",
       "    }\n",
       "</style>\n",
       "<table border=\"1\" class=\"dataframe\">\n",
       "  <thead>\n",
       "    <tr style=\"text-align: right;\">\n",
       "      <th></th>\n",
       "      <th>display_name</th>\n",
       "      <th>service_id</th>\n",
       "    </tr>\n",
       "  </thead>\n",
       "  <tbody>\n",
       "    <tr>\n",
       "      <th>0</th>\n",
       "      <td>mysql</td>\n",
       "      <td>66</td>\n",
       "    </tr>\n",
       "    <tr>\n",
       "      <th>1</th>\n",
       "      <td>http</td>\n",
       "      <td>82</td>\n",
       "    </tr>\n",
       "    <tr>\n",
       "      <th>2</th>\n",
       "      <td>ping4</td>\n",
       "      <td>86</td>\n",
       "    </tr>\n",
       "  </tbody>\n",
       "</table>\n",
       "</div>"
      ],
      "text/plain": [
       "  display_name  service_id\n",
       "0        mysql          66\n",
       "1         http          82\n",
       "2        ping4          86"
      ]
     },
     "metadata": {},
     "output_type": "display_data"
    },
    {
     "data": {
      "text/html": [
       "<hr size=\"30\">"
      ],
      "text/plain": [
       "<IPython.core.display.HTML object>"
      ]
     },
     "metadata": {},
     "output_type": "display_data"
    },
    {
     "data": {
      "text/html": [
       "<b>Host: [327] B - Linux - Mail</b>"
      ],
      "text/plain": [
       "<IPython.core.display.HTML object>"
      ]
     },
     "metadata": {},
     "output_type": "display_data"
    },
    {
     "data": {
      "text/html": [
       "<div>\n",
       "<style scoped>\n",
       "    .dataframe tbody tr th:only-of-type {\n",
       "        vertical-align: middle;\n",
       "    }\n",
       "\n",
       "    .dataframe tbody tr th {\n",
       "        vertical-align: top;\n",
       "    }\n",
       "\n",
       "    .dataframe thead th {\n",
       "        text-align: right;\n",
       "    }\n",
       "</style>\n",
       "<table border=\"1\" class=\"dataframe\">\n",
       "  <thead>\n",
       "    <tr style=\"text-align: right;\">\n",
       "      <th></th>\n",
       "      <th>display_name</th>\n",
       "      <th>service_id</th>\n",
       "    </tr>\n",
       "  </thead>\n",
       "  <tbody>\n",
       "    <tr>\n",
       "      <th>0</th>\n",
       "      <td>ping4</td>\n",
       "      <td>85</td>\n",
       "    </tr>\n",
       "    <tr>\n",
       "      <th>1</th>\n",
       "      <td>http</td>\n",
       "      <td>88</td>\n",
       "    </tr>\n",
       "    <tr>\n",
       "      <th>2</th>\n",
       "      <td>smtp</td>\n",
       "      <td>93</td>\n",
       "    </tr>\n",
       "  </tbody>\n",
       "</table>\n",
       "</div>"
      ],
      "text/plain": [
       "  display_name  service_id\n",
       "0        ping4          85\n",
       "1         http          88\n",
       "2         smtp          93"
      ]
     },
     "metadata": {},
     "output_type": "display_data"
    },
    {
     "data": {
      "text/html": [
       "<hr size=\"30\">"
      ],
      "text/plain": [
       "<IPython.core.display.HTML object>"
      ]
     },
     "metadata": {},
     "output_type": "display_data"
    },
    {
     "data": {
      "text/html": [
       "<b>Host: [326] B - Linux - MySQL/Bind</b>"
      ],
      "text/plain": [
       "<IPython.core.display.HTML object>"
      ]
     },
     "metadata": {},
     "output_type": "display_data"
    },
    {
     "data": {
      "text/html": [
       "<div>\n",
       "<style scoped>\n",
       "    .dataframe tbody tr th:only-of-type {\n",
       "        vertical-align: middle;\n",
       "    }\n",
       "\n",
       "    .dataframe tbody tr th {\n",
       "        vertical-align: top;\n",
       "    }\n",
       "\n",
       "    .dataframe thead th {\n",
       "        text-align: right;\n",
       "    }\n",
       "</style>\n",
       "<table border=\"1\" class=\"dataframe\">\n",
       "  <thead>\n",
       "    <tr style=\"text-align: right;\">\n",
       "      <th></th>\n",
       "      <th>display_name</th>\n",
       "      <th>service_id</th>\n",
       "    </tr>\n",
       "  </thead>\n",
       "  <tbody>\n",
       "    <tr>\n",
       "      <th>0</th>\n",
       "      <td>dns</td>\n",
       "      <td>75</td>\n",
       "    </tr>\n",
       "    <tr>\n",
       "      <th>1</th>\n",
       "      <td>ping4</td>\n",
       "      <td>81</td>\n",
       "    </tr>\n",
       "    <tr>\n",
       "      <th>2</th>\n",
       "      <td>mysql</td>\n",
       "      <td>90</td>\n",
       "    </tr>\n",
       "  </tbody>\n",
       "</table>\n",
       "</div>"
      ],
      "text/plain": [
       "  display_name  service_id\n",
       "0          dns          75\n",
       "1        ping4          81\n",
       "2        mysql          90"
      ]
     },
     "metadata": {},
     "output_type": "display_data"
    },
    {
     "data": {
      "text/html": [
       "<hr size=\"30\">"
      ],
      "text/plain": [
       "<IPython.core.display.HTML object>"
      ]
     },
     "metadata": {},
     "output_type": "display_data"
    },
    {
     "data": {
      "text/html": [
       "<b>Host: [325] B - Windows - SMB/FTP</b>"
      ],
      "text/plain": [
       "<IPython.core.display.HTML object>"
      ]
     },
     "metadata": {},
     "output_type": "display_data"
    },
    {
     "data": {
      "text/html": [
       "<div>\n",
       "<style scoped>\n",
       "    .dataframe tbody tr th:only-of-type {\n",
       "        vertical-align: middle;\n",
       "    }\n",
       "\n",
       "    .dataframe tbody tr th {\n",
       "        vertical-align: top;\n",
       "    }\n",
       "\n",
       "    .dataframe thead th {\n",
       "        text-align: right;\n",
       "    }\n",
       "</style>\n",
       "<table border=\"1\" class=\"dataframe\">\n",
       "  <thead>\n",
       "    <tr style=\"text-align: right;\">\n",
       "      <th></th>\n",
       "      <th>display_name</th>\n",
       "      <th>service_id</th>\n",
       "    </tr>\n",
       "  </thead>\n",
       "  <tbody>\n",
       "    <tr>\n",
       "      <th>0</th>\n",
       "      <td>ping4</td>\n",
       "      <td>72</td>\n",
       "    </tr>\n",
       "    <tr>\n",
       "      <th>1</th>\n",
       "      <td>smb</td>\n",
       "      <td>78</td>\n",
       "    </tr>\n",
       "    <tr>\n",
       "      <th>2</th>\n",
       "      <td>ftp</td>\n",
       "      <td>87</td>\n",
       "    </tr>\n",
       "  </tbody>\n",
       "</table>\n",
       "</div>"
      ],
      "text/plain": [
       "  display_name  service_id\n",
       "0        ping4          72\n",
       "1          smb          78\n",
       "2          ftp          87"
      ]
     },
     "metadata": {},
     "output_type": "display_data"
    },
    {
     "data": {
      "text/html": [
       "<hr size=\"30\">"
      ],
      "text/plain": [
       "<IPython.core.display.HTML object>"
      ]
     },
     "metadata": {},
     "output_type": "display_data"
    },
    {
     "data": {
      "text/html": [
       "<b>Host: [324] A - Linux - Ghost (BLOG)</b>"
      ],
      "text/plain": [
       "<IPython.core.display.HTML object>"
      ]
     },
     "metadata": {},
     "output_type": "display_data"
    },
    {
     "data": {
      "text/html": [
       "<div>\n",
       "<style scoped>\n",
       "    .dataframe tbody tr th:only-of-type {\n",
       "        vertical-align: middle;\n",
       "    }\n",
       "\n",
       "    .dataframe tbody tr th {\n",
       "        vertical-align: top;\n",
       "    }\n",
       "\n",
       "    .dataframe thead th {\n",
       "        text-align: right;\n",
       "    }\n",
       "</style>\n",
       "<table border=\"1\" class=\"dataframe\">\n",
       "  <thead>\n",
       "    <tr style=\"text-align: right;\">\n",
       "      <th></th>\n",
       "      <th>display_name</th>\n",
       "      <th>service_id</th>\n",
       "    </tr>\n",
       "  </thead>\n",
       "  <tbody>\n",
       "    <tr>\n",
       "      <th>0</th>\n",
       "      <td>http</td>\n",
       "      <td>68</td>\n",
       "    </tr>\n",
       "    <tr>\n",
       "      <th>1</th>\n",
       "      <td>ping4</td>\n",
       "      <td>69</td>\n",
       "    </tr>\n",
       "    <tr>\n",
       "      <th>2</th>\n",
       "      <td>ssh</td>\n",
       "      <td>80</td>\n",
       "    </tr>\n",
       "  </tbody>\n",
       "</table>\n",
       "</div>"
      ],
      "text/plain": [
       "  display_name  service_id\n",
       "0         http          68\n",
       "1        ping4          69\n",
       "2          ssh          80"
      ]
     },
     "metadata": {},
     "output_type": "display_data"
    },
    {
     "data": {
      "text/html": [
       "<hr size=\"30\">"
      ],
      "text/plain": [
       "<IPython.core.display.HTML object>"
      ]
     },
     "metadata": {},
     "output_type": "display_data"
    },
    {
     "data": {
      "text/html": [
       "<b>Host: [323] A - Windows - SMB/FTP</b>"
      ],
      "text/plain": [
       "<IPython.core.display.HTML object>"
      ]
     },
     "metadata": {},
     "output_type": "display_data"
    },
    {
     "data": {
      "text/html": [
       "<div>\n",
       "<style scoped>\n",
       "    .dataframe tbody tr th:only-of-type {\n",
       "        vertical-align: middle;\n",
       "    }\n",
       "\n",
       "    .dataframe tbody tr th {\n",
       "        vertical-align: top;\n",
       "    }\n",
       "\n",
       "    .dataframe thead th {\n",
       "        text-align: right;\n",
       "    }\n",
       "</style>\n",
       "<table border=\"1\" class=\"dataframe\">\n",
       "  <thead>\n",
       "    <tr style=\"text-align: right;\">\n",
       "      <th></th>\n",
       "      <th>display_name</th>\n",
       "      <th>service_id</th>\n",
       "    </tr>\n",
       "  </thead>\n",
       "  <tbody>\n",
       "    <tr>\n",
       "      <th>0</th>\n",
       "      <td>smb</td>\n",
       "      <td>71</td>\n",
       "    </tr>\n",
       "    <tr>\n",
       "      <th>1</th>\n",
       "      <td>ftp</td>\n",
       "      <td>84</td>\n",
       "    </tr>\n",
       "    <tr>\n",
       "      <th>2</th>\n",
       "      <td>ping4</td>\n",
       "      <td>91</td>\n",
       "    </tr>\n",
       "  </tbody>\n",
       "</table>\n",
       "</div>"
      ],
      "text/plain": [
       "  display_name  service_id\n",
       "0          smb          71\n",
       "1          ftp          84\n",
       "2        ping4          91"
      ]
     },
     "metadata": {},
     "output_type": "display_data"
    },
    {
     "data": {
      "text/html": [
       "<hr size=\"30\">"
      ],
      "text/plain": [
       "<IPython.core.display.HTML object>"
      ]
     },
     "metadata": {},
     "output_type": "display_data"
    }
   ],
   "source": [
    "for host in scored_hosts:\n",
    "    query = \"select service_id, display_name from icinga_services where host_object_id = %s;\" % host\n",
    "    \n",
    "    cursor.execute(query)\n",
    "    \n",
    "    services = cursor.fetchall()\n",
    "    \n",
    "    query = \"select display_name from icinga_hosts where host_object_id = %d\" % host\n",
    "    \n",
    "    cursor.execute(query)\n",
    "    \n",
    "    hostname = cursor.fetchone()['display_name']\n",
    "    \n",
    "    display(HTML(\"<b>Host: [%s] %s</b>\" % (host,hostname)))\n",
    "    display(pd.DataFrame.from_dict(services))\n",
    "    display(HTML(\"<hr size=\\\"30\\\">\"))"
   ]
  },
  {
   "cell_type": "markdown",
   "metadata": {},
   "source": [
    "## Step 3. Time Configuration\n",
    "At this point, we must now determine what time range is to be scored. The values entered into the next section will determine the time range to be scored:"
   ]
  },
  {
   "cell_type": "code",
   "execution_count": 10,
   "metadata": {},
   "outputs": [],
   "source": [
    "time.strftime('%Y-%m-%d %H:%M:%S')\n",
    "\n",
    "#datetime.datetime(year, month, day, hour, minute, {second}), Omittable starting from right (seconds usually omitted)\n",
    "start_datetime = datetime.datetime(2018, 11, 9, 0, 0)\n",
    "end_datetime = datetime.datetime.now().strftime(\"%Y-%m-%d %H:%M:%S\")"
   ]
  },
  {
   "cell_type": "markdown",
   "metadata": {},
   "source": [
    "## Step 4. SCORING! YAY!\n",
    "Now we get to actual scoring. Each service's uptime will be calculated during the selected time range. Each service's uptime will be shown. Under each host will be it's individual uptime percentage."
   ]
  },
  {
   "cell_type": "code",
   "execution_count": 11,
   "metadata": {
    "scrolled": false
   },
   "outputs": [
    {
     "data": {
      "text/html": [
       "<b>Host: [332] A - Linux - Mail</b>"
      ],
      "text/plain": [
       "<IPython.core.display.HTML object>"
      ]
     },
     "metadata": {},
     "output_type": "display_data"
    },
    {
     "data": {
      "text/html": [
       "<div>\n",
       "<style scoped>\n",
       "    .dataframe tbody tr th:only-of-type {\n",
       "        vertical-align: middle;\n",
       "    }\n",
       "\n",
       "    .dataframe tbody tr th {\n",
       "        vertical-align: top;\n",
       "    }\n",
       "\n",
       "    .dataframe thead th {\n",
       "        text-align: right;\n",
       "    }\n",
       "</style>\n",
       "<table border=\"1\" class=\"dataframe\">\n",
       "  <thead>\n",
       "    <tr style=\"text-align: right;\">\n",
       "      <th></th>\n",
       "      <th>name</th>\n",
       "      <th>uptime</th>\n",
       "    </tr>\n",
       "  </thead>\n",
       "  <tbody>\n",
       "    <tr>\n",
       "      <th>0</th>\n",
       "      <td>http</td>\n",
       "      <td>0.8813</td>\n",
       "    </tr>\n",
       "    <tr>\n",
       "      <th>1</th>\n",
       "      <td>ping4</td>\n",
       "      <td>80.6193</td>\n",
       "    </tr>\n",
       "    <tr>\n",
       "      <th>2</th>\n",
       "      <td>smtp</td>\n",
       "      <td>80.2032</td>\n",
       "    </tr>\n",
       "    <tr>\n",
       "      <th>3</th>\n",
       "      <td>Average</td>\n",
       "      <td>53.9013</td>\n",
       "    </tr>\n",
       "  </tbody>\n",
       "</table>\n",
       "</div>"
      ],
      "text/plain": [
       "      name   uptime\n",
       "0     http   0.8813\n",
       "1    ping4  80.6193\n",
       "2     smtp  80.2032\n",
       "3  Average  53.9013"
      ]
     },
     "metadata": {},
     "output_type": "display_data"
    },
    {
     "data": {
      "image/png": "[encoded data removed]",
      "text/plain": [
       "<Figure size 432x288 with 1 Axes>"
      ]
     },
     "metadata": {},
     "output_type": "display_data"
    },
    {
     "data": {
      "text/html": [
       "<i>Average Uptime: 53.901266666666665</i>"
      ],
      "text/plain": [
       "<IPython.core.display.HTML object>"
      ]
     },
     "metadata": {},
     "output_type": "display_data"
    },
    {
     "data": {
      "text/html": [
       "<hr size=\"20\">"
      ],
      "text/plain": [
       "<IPython.core.display.HTML object>"
      ]
     },
     "metadata": {},
     "output_type": "display_data"
    },
    {
     "data": {
      "text/html": [
       "<b>Host: [331] A - Linux - MySQL/Bind</b>"
      ],
      "text/plain": [
       "<IPython.core.display.HTML object>"
      ]
     },
     "metadata": {},
     "output_type": "display_data"
    },
    {
     "data": {
      "text/html": [
       "<div>\n",
       "<style scoped>\n",
       "    .dataframe tbody tr th:only-of-type {\n",
       "        vertical-align: middle;\n",
       "    }\n",
       "\n",
       "    .dataframe tbody tr th {\n",
       "        vertical-align: top;\n",
       "    }\n",
       "\n",
       "    .dataframe thead th {\n",
       "        text-align: right;\n",
       "    }\n",
       "</style>\n",
       "<table border=\"1\" class=\"dataframe\">\n",
       "  <thead>\n",
       "    <tr style=\"text-align: right;\">\n",
       "      <th></th>\n",
       "      <th>name</th>\n",
       "      <th>uptime</th>\n",
       "    </tr>\n",
       "  </thead>\n",
       "  <tbody>\n",
       "    <tr>\n",
       "      <th>0</th>\n",
       "      <td>dns</td>\n",
       "      <td>NaN</td>\n",
       "    </tr>\n",
       "    <tr>\n",
       "      <th>1</th>\n",
       "      <td>mysql</td>\n",
       "      <td>NaN</td>\n",
       "    </tr>\n",
       "    <tr>\n",
       "      <th>2</th>\n",
       "      <td>ping4</td>\n",
       "      <td>NaN</td>\n",
       "    </tr>\n",
       "    <tr>\n",
       "      <th>3</th>\n",
       "      <td>Average</td>\n",
       "      <td>0.0</td>\n",
       "    </tr>\n",
       "  </tbody>\n",
       "</table>\n",
       "</div>"
      ],
      "text/plain": [
       "      name  uptime\n",
       "0      dns     NaN\n",
       "1    mysql     NaN\n",
       "2    ping4     NaN\n",
       "3  Average     0.0"
      ]
     },
     "metadata": {},
     "output_type": "display_data"
    },
    {
     "data": {
      "image/png": "[encoded data removed]",
      "text/plain": [
       "<Figure size 432x288 with 1 Axes>"
      ]
     },
     "metadata": {},
     "output_type": "display_data"
    },
    {
     "data": {
      "text/html": [
       "<i>Average Uptime: 0.0</i>"
      ],
      "text/plain": [
       "<IPython.core.display.HTML object>"
      ]
     },
     "metadata": {},
     "output_type": "display_data"
    },
    {
     "data": {
      "text/html": [
       "<hr size=\"20\">"
      ],
      "text/plain": [
       "<IPython.core.display.HTML object>"
      ]
     },
     "metadata": {},
     "output_type": "display_data"
    },
    {
     "data": {
      "text/html": [
       "<b>Host: [330] B - Linux - Ghost (BLOG)</b>"
      ],
      "text/plain": [
       "<IPython.core.display.HTML object>"
      ]
     },
     "metadata": {},
     "output_type": "display_data"
    },
    {
     "data": {
      "text/html": [
       "<div>\n",
       "<style scoped>\n",
       "    .dataframe tbody tr th:only-of-type {\n",
       "        vertical-align: middle;\n",
       "    }\n",
       "\n",
       "    .dataframe tbody tr th {\n",
       "        vertical-align: top;\n",
       "    }\n",
       "\n",
       "    .dataframe thead th {\n",
       "        text-align: right;\n",
       "    }\n",
       "</style>\n",
       "<table border=\"1\" class=\"dataframe\">\n",
       "  <thead>\n",
       "    <tr style=\"text-align: right;\">\n",
       "      <th></th>\n",
       "      <th>name</th>\n",
       "      <th>uptime</th>\n",
       "    </tr>\n",
       "  </thead>\n",
       "  <tbody>\n",
       "    <tr>\n",
       "      <th>0</th>\n",
       "      <td>http</td>\n",
       "      <td>NaN</td>\n",
       "    </tr>\n",
       "    <tr>\n",
       "      <th>1</th>\n",
       "      <td>ssh</td>\n",
       "      <td>NaN</td>\n",
       "    </tr>\n",
       "    <tr>\n",
       "      <th>2</th>\n",
       "      <td>ping4</td>\n",
       "      <td>NaN</td>\n",
       "    </tr>\n",
       "    <tr>\n",
       "      <th>3</th>\n",
       "      <td>Average</td>\n",
       "      <td>0.0</td>\n",
       "    </tr>\n",
       "  </tbody>\n",
       "</table>\n",
       "</div>"
      ],
      "text/plain": [
       "      name  uptime\n",
       "0     http     NaN\n",
       "1      ssh     NaN\n",
       "2    ping4     NaN\n",
       "3  Average     0.0"
      ]
     },
     "metadata": {},
     "output_type": "display_data"
    },
    {
     "data": {
      "image/png": "[encoded data removed]",
      "text/plain": [
       "<Figure size 432x288 with 1 Axes>"
      ]
     },
     "metadata": {},
     "output_type": "display_data"
    },
    {
     "data": {
      "text/html": [
       "<i>Average Uptime: 0.0</i>"
      ],
      "text/plain": [
       "<IPython.core.display.HTML object>"
      ]
     },
     "metadata": {},
     "output_type": "display_data"
    },
    {
     "data": {
      "text/html": [
       "<hr size=\"20\">"
      ],
      "text/plain": [
       "<IPython.core.display.HTML object>"
      ]
     },
     "metadata": {},
     "output_type": "display_data"
    },
    {
     "data": {
      "text/html": [
       "<b>Host: [329] A - Windows - FarmOS/MySQL</b>"
      ],
      "text/plain": [
       "<IPython.core.display.HTML object>"
      ]
     },
     "metadata": {},
     "output_type": "display_data"
    },
    {
     "data": {
      "text/html": [
       "<div>\n",
       "<style scoped>\n",
       "    .dataframe tbody tr th:only-of-type {\n",
       "        vertical-align: middle;\n",
       "    }\n",
       "\n",
       "    .dataframe tbody tr th {\n",
       "        vertical-align: top;\n",
       "    }\n",
       "\n",
       "    .dataframe thead th {\n",
       "        text-align: right;\n",
       "    }\n",
       "</style>\n",
       "<table border=\"1\" class=\"dataframe\">\n",
       "  <thead>\n",
       "    <tr style=\"text-align: right;\">\n",
       "      <th></th>\n",
       "      <th>name</th>\n",
       "      <th>uptime</th>\n",
       "    </tr>\n",
       "  </thead>\n",
       "  <tbody>\n",
       "    <tr>\n",
       "      <th>0</th>\n",
       "      <td>ping4</td>\n",
       "      <td>80.6332</td>\n",
       "    </tr>\n",
       "    <tr>\n",
       "      <th>1</th>\n",
       "      <td>http</td>\n",
       "      <td>80.6759</td>\n",
       "    </tr>\n",
       "    <tr>\n",
       "      <th>2</th>\n",
       "      <td>mysql</td>\n",
       "      <td>None</td>\n",
       "    </tr>\n",
       "    <tr>\n",
       "      <th>3</th>\n",
       "      <td>Average</td>\n",
       "      <td>53.7697</td>\n",
       "    </tr>\n",
       "  </tbody>\n",
       "</table>\n",
       "</div>"
      ],
      "text/plain": [
       "      name   uptime\n",
       "0    ping4  80.6332\n",
       "1     http  80.6759\n",
       "2    mysql     None\n",
       "3  Average  53.7697"
      ]
     },
     "metadata": {},
     "output_type": "display_data"
    },
    {
     "data": {
      "image/png": "[encoded data removed]",
      "text/plain": [
       "<Figure size 432x288 with 1 Axes>"
      ]
     },
     "metadata": {},
     "output_type": "display_data"
    },
    {
     "data": {
      "text/html": [
       "<i>Average Uptime: 53.7697</i>"
      ],
      "text/plain": [
       "<IPython.core.display.HTML object>"
      ]
     },
     "metadata": {},
     "output_type": "display_data"
    },
    {
     "data": {
      "text/html": [
       "<hr size=\"20\">"
      ],
      "text/plain": [
       "<IPython.core.display.HTML object>"
      ]
     },
     "metadata": {},
     "output_type": "display_data"
    },
    {
     "data": {
      "text/html": [
       "<b>Host: [328] B - Windows - FarmOS/MySQL</b>"
      ],
      "text/plain": [
       "<IPython.core.display.HTML object>"
      ]
     },
     "metadata": {},
     "output_type": "display_data"
    },
    {
     "data": {
      "text/html": [
       "<div>\n",
       "<style scoped>\n",
       "    .dataframe tbody tr th:only-of-type {\n",
       "        vertical-align: middle;\n",
       "    }\n",
       "\n",
       "    .dataframe tbody tr th {\n",
       "        vertical-align: top;\n",
       "    }\n",
       "\n",
       "    .dataframe thead th {\n",
       "        text-align: right;\n",
       "    }\n",
       "</style>\n",
       "<table border=\"1\" class=\"dataframe\">\n",
       "  <thead>\n",
       "    <tr style=\"text-align: right;\">\n",
       "      <th></th>\n",
       "      <th>name</th>\n",
       "      <th>uptime</th>\n",
       "    </tr>\n",
       "  </thead>\n",
       "  <tbody>\n",
       "    <tr>\n",
       "      <th>0</th>\n",
       "      <td>mysql</td>\n",
       "      <td>NaN</td>\n",
       "    </tr>\n",
       "    <tr>\n",
       "      <th>1</th>\n",
       "      <td>http</td>\n",
       "      <td>NaN</td>\n",
       "    </tr>\n",
       "    <tr>\n",
       "      <th>2</th>\n",
       "      <td>ping4</td>\n",
       "      <td>NaN</td>\n",
       "    </tr>\n",
       "    <tr>\n",
       "      <th>3</th>\n",
       "      <td>Average</td>\n",
       "      <td>0.0</td>\n",
       "    </tr>\n",
       "  </tbody>\n",
       "</table>\n",
       "</div>"
      ],
      "text/plain": [
       "      name  uptime\n",
       "0    mysql     NaN\n",
       "1     http     NaN\n",
       "2    ping4     NaN\n",
       "3  Average     0.0"
      ]
     },
     "metadata": {},
     "output_type": "display_data"
    },
    {
     "data": {
      "image/png": "[encoded data removed]",
      "text/plain": [
       "<Figure size 432x288 with 1 Axes>"
      ]
     },
     "metadata": {},
     "output_type": "display_data"
    },
    {
     "data": {
      "text/html": [
       "<i>Average Uptime: 0.0</i>"
      ],
      "text/plain": [
       "<IPython.core.display.HTML object>"
      ]
     },
     "metadata": {},
     "output_type": "display_data"
    },
    {
     "data": {
      "text/html": [
       "<hr size=\"20\">"
      ],
      "text/plain": [
       "<IPython.core.display.HTML object>"
      ]
     },
     "metadata": {},
     "output_type": "display_data"
    },
    {
     "data": {
      "text/html": [
       "<b>Host: [327] B - Linux - Mail</b>"
      ],
      "text/plain": [
       "<IPython.core.display.HTML object>"
      ]
     },
     "metadata": {},
     "output_type": "display_data"
    },
    {
     "data": {
      "text/html": [
       "<div>\n",
       "<style scoped>\n",
       "    .dataframe tbody tr th:only-of-type {\n",
       "        vertical-align: middle;\n",
       "    }\n",
       "\n",
       "    .dataframe tbody tr th {\n",
       "        vertical-align: top;\n",
       "    }\n",
       "\n",
       "    .dataframe thead th {\n",
       "        text-align: right;\n",
       "    }\n",
       "</style>\n",
       "<table border=\"1\" class=\"dataframe\">\n",
       "  <thead>\n",
       "    <tr style=\"text-align: right;\">\n",
       "      <th></th>\n",
       "      <th>name</th>\n",
       "      <th>uptime</th>\n",
       "    </tr>\n",
       "  </thead>\n",
       "  <tbody>\n",
       "    <tr>\n",
       "      <th>0</th>\n",
       "      <td>ping4</td>\n",
       "      <td>80.6642</td>\n",
       "    </tr>\n",
       "    <tr>\n",
       "      <th>1</th>\n",
       "      <td>http</td>\n",
       "      <td>None</td>\n",
       "    </tr>\n",
       "    <tr>\n",
       "      <th>2</th>\n",
       "      <td>smtp</td>\n",
       "      <td>None</td>\n",
       "    </tr>\n",
       "    <tr>\n",
       "      <th>3</th>\n",
       "      <td>Average</td>\n",
       "      <td>26.8881</td>\n",
       "    </tr>\n",
       "  </tbody>\n",
       "</table>\n",
       "</div>"
      ],
      "text/plain": [
       "      name   uptime\n",
       "0    ping4  80.6642\n",
       "1     http     None\n",
       "2     smtp     None\n",
       "3  Average  26.8881"
      ]
     },
     "metadata": {},
     "output_type": "display_data"
    },
    {
     "data": {
      "image/png": "[encoded data removed]",
      "text/plain": [
       "<Figure size 432x288 with 1 Axes>"
      ]
     },
     "metadata": {},
     "output_type": "display_data"
    },
    {
     "data": {
      "text/html": [
       "<i>Average Uptime: 26.888066666666663</i>"
      ],
      "text/plain": [
       "<IPython.core.display.HTML object>"
      ]
     },
     "metadata": {},
     "output_type": "display_data"
    },
    {
     "data": {
      "text/html": [
       "<hr size=\"20\">"
      ],
      "text/plain": [
       "<IPython.core.display.HTML object>"
      ]
     },
     "metadata": {},
     "output_type": "display_data"
    },
    {
     "data": {
      "text/html": [
       "<b>Host: [326] B - Linux - MySQL/Bind</b>"
      ],
      "text/plain": [
       "<IPython.core.display.HTML object>"
      ]
     },
     "metadata": {},
     "output_type": "display_data"
    },
    {
     "data": {
      "text/html": [
       "<div>\n",
       "<style scoped>\n",
       "    .dataframe tbody tr th:only-of-type {\n",
       "        vertical-align: middle;\n",
       "    }\n",
       "\n",
       "    .dataframe tbody tr th {\n",
       "        vertical-align: top;\n",
       "    }\n",
       "\n",
       "    .dataframe thead th {\n",
       "        text-align: right;\n",
       "    }\n",
       "</style>\n",
       "<table border=\"1\" class=\"dataframe\">\n",
       "  <thead>\n",
       "    <tr style=\"text-align: right;\">\n",
       "      <th></th>\n",
       "      <th>name</th>\n",
       "      <th>uptime</th>\n",
       "    </tr>\n",
       "  </thead>\n",
       "  <tbody>\n",
       "    <tr>\n",
       "      <th>0</th>\n",
       "      <td>dns</td>\n",
       "      <td>NaN</td>\n",
       "    </tr>\n",
       "    <tr>\n",
       "      <th>1</th>\n",
       "      <td>ping4</td>\n",
       "      <td>NaN</td>\n",
       "    </tr>\n",
       "    <tr>\n",
       "      <th>2</th>\n",
       "      <td>mysql</td>\n",
       "      <td>NaN</td>\n",
       "    </tr>\n",
       "    <tr>\n",
       "      <th>3</th>\n",
       "      <td>Average</td>\n",
       "      <td>0.0</td>\n",
       "    </tr>\n",
       "  </tbody>\n",
       "</table>\n",
       "</div>"
      ],
      "text/plain": [
       "      name  uptime\n",
       "0      dns     NaN\n",
       "1    ping4     NaN\n",
       "2    mysql     NaN\n",
       "3  Average     0.0"
      ]
     },
     "metadata": {},
     "output_type": "display_data"
    },
    {
     "data": {
      "image/png": "[encoded data removed]",
      "text/plain": [
       "<Figure size 432x288 with 1 Axes>"
      ]
     },
     "metadata": {},
     "output_type": "display_data"
    },
    {
     "data": {
      "text/html": [
       "<i>Average Uptime: 0.0</i>"
      ],
      "text/plain": [
       "<IPython.core.display.HTML object>"
      ]
     },
     "metadata": {},
     "output_type": "display_data"
    },
    {
     "data": {
      "text/html": [
       "<hr size=\"20\">"
      ],
      "text/plain": [
       "<IPython.core.display.HTML object>"
      ]
     },
     "metadata": {},
     "output_type": "display_data"
    },
    {
     "data": {
      "text/html": [
       "<b>Host: [325] B - Windows - SMB/FTP</b>"
      ],
      "text/plain": [
       "<IPython.core.display.HTML object>"
      ]
     },
     "metadata": {},
     "output_type": "display_data"
    },
    {
     "data": {
      "text/html": [
       "<div>\n",
       "<style scoped>\n",
       "    .dataframe tbody tr th:only-of-type {\n",
       "        vertical-align: middle;\n",
       "    }\n",
       "\n",
       "    .dataframe tbody tr th {\n",
       "        vertical-align: top;\n",
       "    }\n",
       "\n",
       "    .dataframe thead th {\n",
       "        text-align: right;\n",
       "    }\n",
       "</style>\n",
       "<table border=\"1\" class=\"dataframe\">\n",
       "  <thead>\n",
       "    <tr style=\"text-align: right;\">\n",
       "      <th></th>\n",
       "      <th>name</th>\n",
       "      <th>uptime</th>\n",
       "    </tr>\n",
       "  </thead>\n",
       "  <tbody>\n",
       "    <tr>\n",
       "      <th>0</th>\n",
       "      <td>ping4</td>\n",
       "      <td>NaN</td>\n",
       "    </tr>\n",
       "    <tr>\n",
       "      <th>1</th>\n",
       "      <td>smb</td>\n",
       "      <td>NaN</td>\n",
       "    </tr>\n",
       "    <tr>\n",
       "      <th>2</th>\n",
       "      <td>ftp</td>\n",
       "      <td>NaN</td>\n",
       "    </tr>\n",
       "    <tr>\n",
       "      <th>3</th>\n",
       "      <td>Average</td>\n",
       "      <td>0.0</td>\n",
       "    </tr>\n",
       "  </tbody>\n",
       "</table>\n",
       "</div>"
      ],
      "text/plain": [
       "      name  uptime\n",
       "0    ping4     NaN\n",
       "1      smb     NaN\n",
       "2      ftp     NaN\n",
       "3  Average     0.0"
      ]
     },
     "metadata": {},
     "output_type": "display_data"
    },
    {
     "data": {
      "image/png": "[encoded data removed]",
      "text/plain": [
       "<Figure size 432x288 with 1 Axes>"
      ]
     },
     "metadata": {},
     "output_type": "display_data"
    },
    {
     "data": {
      "text/html": [
       "<i>Average Uptime: 0.0</i>"
      ],
      "text/plain": [
       "<IPython.core.display.HTML object>"
      ]
     },
     "metadata": {},
     "output_type": "display_data"
    },
    {
     "data": {
      "text/html": [
       "<hr size=\"20\">"
      ],
      "text/plain": [
       "<IPython.core.display.HTML object>"
      ]
     },
     "metadata": {},
     "output_type": "display_data"
    },
    {
     "data": {
      "text/html": [
       "<b>Host: [324] A - Linux - Ghost (BLOG)</b>"
      ],
      "text/plain": [
       "<IPython.core.display.HTML object>"
      ]
     },
     "metadata": {},
     "output_type": "display_data"
    },
    {
     "data": {
      "text/html": [
       "<div>\n",
       "<style scoped>\n",
       "    .dataframe tbody tr th:only-of-type {\n",
       "        vertical-align: middle;\n",
       "    }\n",
       "\n",
       "    .dataframe tbody tr th {\n",
       "        vertical-align: top;\n",
       "    }\n",
       "\n",
       "    .dataframe thead th {\n",
       "        text-align: right;\n",
       "    }\n",
       "</style>\n",
       "<table border=\"1\" class=\"dataframe\">\n",
       "  <thead>\n",
       "    <tr style=\"text-align: right;\">\n",
       "      <th></th>\n",
       "      <th>name</th>\n",
       "      <th>uptime</th>\n",
       "    </tr>\n",
       "  </thead>\n",
       "  <tbody>\n",
       "    <tr>\n",
       "      <th>0</th>\n",
       "      <td>http</td>\n",
       "      <td>NaN</td>\n",
       "    </tr>\n",
       "    <tr>\n",
       "      <th>1</th>\n",
       "      <td>ping4</td>\n",
       "      <td>NaN</td>\n",
       "    </tr>\n",
       "    <tr>\n",
       "      <th>2</th>\n",
       "      <td>ssh</td>\n",
       "      <td>NaN</td>\n",
       "    </tr>\n",
       "    <tr>\n",
       "      <th>3</th>\n",
       "      <td>Average</td>\n",
       "      <td>0.0</td>\n",
       "    </tr>\n",
       "  </tbody>\n",
       "</table>\n",
       "</div>"
      ],
      "text/plain": [
       "      name  uptime\n",
       "0     http     NaN\n",
       "1    ping4     NaN\n",
       "2      ssh     NaN\n",
       "3  Average     0.0"
      ]
     },
     "metadata": {},
     "output_type": "display_data"
    },
    {
     "data": {
      "image/png": "[encoded data removed]",
      "text/plain": [
       "<Figure size 432x288 with 1 Axes>"
      ]
     },
     "metadata": {},
     "output_type": "display_data"
    },
    {
     "data": {
      "text/html": [
       "<i>Average Uptime: 0.0</i>"
      ],
      "text/plain": [
       "<IPython.core.display.HTML object>"
      ]
     },
     "metadata": {},
     "output_type": "display_data"
    },
    {
     "data": {
      "text/html": [
       "<hr size=\"20\">"
      ],
      "text/plain": [
       "<IPython.core.display.HTML object>"
      ]
     },
     "metadata": {},
     "output_type": "display_data"
    },
    {
     "data": {
      "text/html": [
       "<b>Host: [323] A - Windows - SMB/FTP</b>"
      ],
      "text/plain": [
       "<IPython.core.display.HTML object>"
      ]
     },
     "metadata": {},
     "output_type": "display_data"
    },
    {
     "data": {
      "text/html": [
       "<div>\n",
       "<style scoped>\n",
       "    .dataframe tbody tr th:only-of-type {\n",
       "        vertical-align: middle;\n",
       "    }\n",
       "\n",
       "    .dataframe tbody tr th {\n",
       "        vertical-align: top;\n",
       "    }\n",
       "\n",
       "    .dataframe thead th {\n",
       "        text-align: right;\n",
       "    }\n",
       "</style>\n",
       "<table border=\"1\" class=\"dataframe\">\n",
       "  <thead>\n",
       "    <tr style=\"text-align: right;\">\n",
       "      <th></th>\n",
       "      <th>name</th>\n",
       "      <th>uptime</th>\n",
       "    </tr>\n",
       "  </thead>\n",
       "  <tbody>\n",
       "    <tr>\n",
       "      <th>0</th>\n",
       "      <td>smb</td>\n",
       "      <td>None</td>\n",
       "    </tr>\n",
       "    <tr>\n",
       "      <th>1</th>\n",
       "      <td>ftp</td>\n",
       "      <td>80.6513</td>\n",
       "    </tr>\n",
       "    <tr>\n",
       "      <th>2</th>\n",
       "      <td>ping4</td>\n",
       "      <td>80.6642</td>\n",
       "    </tr>\n",
       "    <tr>\n",
       "      <th>3</th>\n",
       "      <td>Average</td>\n",
       "      <td>53.7718</td>\n",
       "    </tr>\n",
       "  </tbody>\n",
       "</table>\n",
       "</div>"
      ],
      "text/plain": [
       "      name   uptime\n",
       "0      smb     None\n",
       "1      ftp  80.6513\n",
       "2    ping4  80.6642\n",
       "3  Average  53.7718"
      ]
     },
     "metadata": {},
     "output_type": "display_data"
    },
    {
     "data": {
      "image/png": "[encoded data removed]",
      "text/plain": [
       "<Figure size 432x288 with 1 Axes>"
      ]
     },
     "metadata": {},
     "output_type": "display_data"
    },
    {
     "data": {
      "text/html": [
       "<i>Average Uptime: 53.771833333333326</i>"
      ],
      "text/plain": [
       "<IPython.core.display.HTML object>"
      ]
     },
     "metadata": {},
     "output_type": "display_data"
    },
    {
     "data": {
      "text/html": [
       "<hr size=\"20\">"
      ],
      "text/plain": [
       "<IPython.core.display.HTML object>"
      ]
     },
     "metadata": {},
     "output_type": "display_data"
    }
   ],
   "source": [
    "for host in scored_hosts:\n",
    "    query = \"select service_object_id, display_name from icinga_services where host_object_id = %s;\" % host\n",
    "    \n",
    "    cursor.execute(query)\n",
    "    \n",
    "    services = cursor.fetchall()\n",
    "    \n",
    "    query = \"select display_name from icinga_hosts where host_object_id = %d\" % host\n",
    "    \n",
    "    cursor.execute(query)\n",
    "    \n",
    "    hostname = cursor.fetchone()['display_name']\n",
    "    \n",
    "    display(HTML(\"<b>Host: [%s] %s</b>\" % (host,hostname)))\n",
    "    \n",
    "    uptimes = []\n",
    "    uptime_sum = 0.0;\n",
    "    for service in services:\n",
    "        query = \"select icinga2.icinga_availability(%s,\\\"%s\\\",\\\"%s\\\") as uptime;\" % (service['service_object_id'],start_datetime,end_datetime)\n",
    "\n",
    "        cursor.execute(query)\n",
    "        \n",
    "        uptime = cursor.fetchone()['uptime']\n",
    "        \n",
    "        if(uptime != None):\n",
    "            uptime_sum = uptime_sum + float(uptime)\n",
    "        \n",
    "        uptimes.append({\"name\":service['display_name'], \"uptime\": uptime})\n",
    "    \n",
    "    ## Summation of data and plotting\n",
    "    average_uptime = uptime_sum/len(uptimes)\n",
    "    uptimes.append({'name':'Average','uptime':average_uptime}) #Adds the average value to the data\n",
    "    uptime_data = pd.DataFrame.from_dict(uptimes)\n",
    "    display(uptime_data)\n",
    "\n",
    "    ## Create the fancy plot\n",
    "    uptime_data.uptime = uptime_data.uptime.astype(float)\n",
    "    uptime_plot = uptime_data.plot(title=hostname, kind=\"barh\",x='name',y='uptime', legend=False)\n",
    "    uptime_plot.set_xlabel(\"Uptime Percentage\")\n",
    "    uptime_plot.set_ylabel(\"Service\")\n",
    "    plt.show()\n",
    "    \n",
    "    ## Print out average and rule at end\n",
    "    display(HTML(\"<i>Average Uptime: %s</i>\" % (average_uptime)))\n",
    "    display(HTML(\"<hr size=\\\"20\\\">\"))\n",
    "        "
   ]
  }
 ],
 "metadata": {
  "celltoolbar": "Raw Cell Format",
  "kernelspec": {
   "display_name": "Python 3",
   "language": "python",
   "name": "python3"
  },
  "language_info": {
   "codemirror_mode": {
    "name": "ipython",
    "version": 3
   },
   "file_extension": ".py",
   "mimetype": "text/x-python",
   "name": "python",
   "nbconvert_exporter": "python",
   "pygments_lexer": "ipython3",
   "version": "3.7.1"
  }
 },
 "nbformat": 4,
 "nbformat_minor": 2
}
